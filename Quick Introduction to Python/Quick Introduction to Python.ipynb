{
  "nbformat": 4,
  "nbformat_minor": 0,
  "metadata": {
    "colab": {
      "provenance": [],
      "collapsed_sections": []
    },
    "kernelspec": {
      "name": "python3",
      "display_name": "Python 3"
    },
    "language_info": {
      "name": "python"
    }
  },
  "cells": [
    {
      "cell_type": "markdown",
      "source": [
        "### **Python Taster Course - Module 2 - Quick Introduction to Python**\n",
        "---"
      ],
      "metadata": {
        "id": "z2MXO4gh75ax"
      }
    },
    {
      "cell_type": "markdown",
      "source": [
        "**Module Details**\n",
        "\n",
        "This notebook provides a very quick introduction to the fundamentals building blocks of the Python programming language.<br/><br/>\n",
        "\n",
        "**Module Webpage**\n",
        "\n",
        "https://knowledgebase.hyperlearning.ai/en/courses/python-taster-course/modules/2/quick-introduction-to-python<br/><br/>\n",
        "\n",
        "**Course Website**\n",
        "\n",
        "https://knowledgebase.hyperlearning.ai/en/courses/python-taster-course<br/><br/>\n",
        "\n",
        "**Requirements**\n",
        "\n",
        "*   Desktop or laptop computer (Windows, Mac or Linux).\n",
        "*   Internet browser ([Google Chrome](https://www.google.com/intl/en_uk/chrome/) recommended).\n",
        "*   Stable internet connection if using [Google Colaboratory](https://colab.research.google.com) (recommended).\n",
        "*   [Google account](https://support.google.com/accounts/answer/27441?hl=en) if using [Google Colaboratory](https://colab.research.google.com) (recommended).<br/><br/>\n",
        "\n",
        "**Contents**\n",
        "\n",
        "1.   What is Python?\n",
        "2.   Basic Data Types.\n",
        "3.   Basic Operators.\n",
        "4.   Basic Control Flow.\n",
        "5.   Basic Functions.\n",
        "6.   Next Steps.<br/><br/>\n",
        "\n",
        "**Outcomes**\n",
        "\n",
        "*   The ability to develop simple software applications in Python 3.\n",
        "*   An understanding of basic computing concepts including basic data types, control flow and functions.<br/><br/>\n",
        "---"
      ],
      "metadata": {
        "id": "WcbjBlA68L6r"
      }
    },
    {
      "cell_type": "markdown",
      "source": [
        "#### **1. What is Python?**\n",
        "\n",
        "[Python](https://www.python.org) is an **open-source general purpose programming language**. This means that it can be used to develop software for a wide variety of tasks. Today Python is used to create and maintain a huge range of computer applications and services including in relation to web applications, cyber security, hacking (both ethical and non-ethical), performing data analysis and media processing, robotics and developing artificial intelligence (AI) systems. Python is a popular choice for those wishing to learn computer programming and computer science fundamentals for the very first time because it is easy to learn, intuitive and is supported by an active global community of software engineers, data scientists and academics."
      ],
      "metadata": {
        "id": "wbT93fFEDFlR"
      }
    },
    {
      "cell_type": "markdown",
      "source": [
        "#### **2. Basic Data Types**"
      ],
      "metadata": {
        "id": "fzti8HA7DUqZ"
      }
    },
    {
      "cell_type": "markdown",
      "source": [
        "##### **2.1. Strings**"
      ],
      "metadata": {
        "id": "NbIM5sx1qG9A"
      }
    },
    {
      "cell_type": "code",
      "execution_count": 2,
      "metadata": {
        "colab": {
          "base_uri": "https://localhost:8080/"
        },
        "id": "Qq90Sls97z3l",
        "outputId": "232050e5-054a-4dbf-90c4-3e32400e4d71"
      },
      "outputs": [
        {
          "output_type": "stream",
          "name": "stdout",
          "text": [
            "Hello world!\n"
          ]
        }
      ],
      "source": [
        "# String / text\n",
        "my_first_string = 'Hello world!'\n",
        "print(my_first_string)"
      ]
    },
    {
      "cell_type": "markdown",
      "source": [
        "##### **2.2. Numbers**"
      ],
      "metadata": {
        "id": "-PmNjAtZqOSy"
      }
    },
    {
      "cell_type": "code",
      "source": [
        "# Numbers\n",
        "my_first_number = 10\n",
        "my_second_number = 3.14159"
      ],
      "metadata": {
        "id": "QsTLz5jTD1Si"
      },
      "execution_count": 3,
      "outputs": []
    },
    {
      "cell_type": "markdown",
      "source": [
        "##### **2.3. Booleans**"
      ],
      "metadata": {
        "id": "MS0KNrvwqRVv"
      }
    },
    {
      "cell_type": "code",
      "source": [
        "# Booleans\n",
        "my_first_boolean = True\n",
        "my_second_boolean = False"
      ],
      "metadata": {
        "id": "7Q43iv19GMZz"
      },
      "execution_count": 4,
      "outputs": []
    },
    {
      "cell_type": "markdown",
      "source": [
        "##### **2.4. Naming Rules**\n",
        "In Python, the following rules must be adhered to when choosing names for your variables:\n",
        "\n",
        "1.   Variable names can only include letters, numbers and the underscore `_` character.\n",
        "2.   Variable names cannot start with a number.\n"
      ],
      "metadata": {
        "id": "4CHWyGMvqVIS"
      }
    },
    {
      "cell_type": "markdown",
      "source": [
        "##### **2.5. Naming Conventions**\n",
        "There also exist conventions which, though they do not need to be adhered to strictly unlike rules, are highly recommended to follow when choosing names for your variables:\n",
        "\n",
        "1.   Variable names should be all lowercase (variable names are case-sensitive in Python).\n",
        "2.   Different words in variable names should be separated by the underscore `_` character.\n",
        "3.   Variable names should be short and meaningful."
      ],
      "metadata": {
        "id": "np2SF5HYFYrD"
      }
    },
    {
      "cell_type": "code",
      "source": [
        "# Examples of compliant and good variable names\n",
        "first_name = 'Jillur'\n",
        "last_name = 'Quddus'\n",
        "age = 30\n",
        "male = True\n",
        "\n",
        "print(f'{first_name} {last_name} is {age} years old.')"
      ],
      "metadata": {
        "colab": {
          "base_uri": "https://localhost:8080/"
        },
        "id": "njb2MozBFZrj",
        "outputId": "6983f9e2-e6bb-4846-d476-6c18afba3b98"
      },
      "execution_count": 5,
      "outputs": [
        {
          "output_type": "stream",
          "name": "stdout",
          "text": [
            "Jillur Quddus is 30 years old.\n"
          ]
        }
      ]
    },
    {
      "cell_type": "markdown",
      "source": [
        "#### **3. Basic operators**"
      ],
      "metadata": {
        "id": "suCfL9l5ERP6"
      }
    },
    {
      "cell_type": "markdown",
      "source": [
        "##### **3.1. Arithmetic Operators**"
      ],
      "metadata": {
        "id": "7eeWbDjIq0FY"
      }
    },
    {
      "cell_type": "code",
      "source": [
        "# Arithmetic operators\n",
        "print(3 + 7)\n",
        "print(10 - 6)\n",
        "print(2 * 3)\n",
        "print(10 / 2)"
      ],
      "metadata": {
        "colab": {
          "base_uri": "https://localhost:8080/"
        },
        "id": "iYldqNqpEO75",
        "outputId": "44139045-8377-45e5-a26f-11d5c7e034fa"
      },
      "execution_count": 6,
      "outputs": [
        {
          "output_type": "stream",
          "name": "stdout",
          "text": [
            "10\n",
            "4\n",
            "6\n",
            "5.0\n"
          ]
        }
      ]
    },
    {
      "cell_type": "code",
      "source": [
        "x = 2\n",
        "y = 10\n",
        "z = x * y\n",
        "print(z)"
      ],
      "metadata": {
        "colab": {
          "base_uri": "https://localhost:8080/"
        },
        "id": "EZ5VbDETHLwm",
        "outputId": "cffbfc66-d8b1-43c6-a854-b5a4de1f405d"
      },
      "execution_count": 7,
      "outputs": [
        {
          "output_type": "stream",
          "name": "stdout",
          "text": [
            "20\n"
          ]
        }
      ]
    },
    {
      "cell_type": "markdown",
      "source": [
        "##### **3.2. Comparison Operators**"
      ],
      "metadata": {
        "id": "KBIYCUymq5-n"
      }
    },
    {
      "cell_type": "code",
      "source": [
        "# Comparison operators\n",
        "print(10 == 100)\n",
        "print(15 != 20)\n",
        "print(2 > 10)\n",
        "print(10 < 100)\n",
        "print(10 >= 10)\n",
        "print(20 <= 19)"
      ],
      "metadata": {
        "colab": {
          "base_uri": "https://localhost:8080/"
        },
        "id": "R8ggJ_8aHMuc",
        "outputId": "9ae5de35-295c-48d7-f6f6-0dc209914779"
      },
      "execution_count": 8,
      "outputs": [
        {
          "output_type": "stream",
          "name": "stdout",
          "text": [
            "False\n",
            "True\n",
            "False\n",
            "True\n",
            "True\n",
            "False\n"
          ]
        }
      ]
    },
    {
      "cell_type": "markdown",
      "source": [
        "#### **4. Basic Control Flow**"
      ],
      "metadata": {
        "id": "95V8Q1DeHkAP"
      }
    },
    {
      "cell_type": "markdown",
      "source": [
        "##### **4.1. Conditional Statements**"
      ],
      "metadata": {
        "id": "s7h62j2tq-ln"
      }
    },
    {
      "cell_type": "code",
      "source": [
        "# If statement\n",
        "age = 30\n",
        "if age >= 18:\n",
        "  print(\"You are allowed to vote in UK elections.\")"
      ],
      "metadata": {
        "colab": {
          "base_uri": "https://localhost:8080/"
        },
        "id": "Z21H0t6VHmql",
        "outputId": "ac31d234-9404-494f-d839-2fa4113ddeb3"
      },
      "execution_count": 9,
      "outputs": [
        {
          "output_type": "stream",
          "name": "stdout",
          "text": [
            "You are allowed to vote in UK elections.\n"
          ]
        }
      ]
    },
    {
      "cell_type": "code",
      "source": [
        "if age >= 18:\n",
        "  print(\"You are allowed to vote in UK elections.\")\n",
        "else:\n",
        "  print(\"You are NOT allowed to vote in UK elections.\")"
      ],
      "metadata": {
        "id": "DR1GPeWaIJF1",
        "colab": {
          "base_uri": "https://localhost:8080/"
        },
        "outputId": "b288e4c2-0582-4e72-cc6b-260d62d417d0"
      },
      "execution_count": 10,
      "outputs": [
        {
          "output_type": "stream",
          "name": "stdout",
          "text": [
            "You are allowed to vote in UK elections.\n"
          ]
        }
      ]
    },
    {
      "cell_type": "markdown",
      "source": [
        "#### **5. Basic Functions**"
      ],
      "metadata": {
        "id": "NP9UEsnoIb5G"
      }
    },
    {
      "cell_type": "markdown",
      "source": [
        "##### **5.1. Print Function**"
      ],
      "metadata": {
        "id": "gUFpfdcurEHg"
      }
    },
    {
      "cell_type": "code",
      "source": [
        "# Print function\n",
        "name = 'Jillur Quddus'\n",
        "print(name)"
      ],
      "metadata": {
        "colab": {
          "base_uri": "https://localhost:8080/"
        },
        "id": "u7J-TqOYIY89",
        "outputId": "26927d37-bdfc-4f8b-ab34-793c7d693ceb"
      },
      "execution_count": 11,
      "outputs": [
        {
          "output_type": "stream",
          "name": "stdout",
          "text": [
            "Jillur Quddus\n"
          ]
        }
      ]
    },
    {
      "cell_type": "markdown",
      "source": [
        "##### **5.2. Custom Function**"
      ],
      "metadata": {
        "id": "_Pn_o_95rHdt"
      }
    },
    {
      "cell_type": "code",
      "source": [
        "# Defining your own functions\n",
        "def add(x, y):\n",
        "  sum = x + y\n",
        "  return sum"
      ],
      "metadata": {
        "id": "P2wZA2uxInLf"
      },
      "execution_count": 12,
      "outputs": []
    },
    {
      "cell_type": "code",
      "source": [
        "# Running your own functions\n",
        "add(10, 20)"
      ],
      "metadata": {
        "colab": {
          "base_uri": "https://localhost:8080/"
        },
        "id": "wPIKU-eyIxxW",
        "outputId": "74e33b68-72f6-46ec-936d-7c01a98bbb0b"
      },
      "execution_count": 13,
      "outputs": [
        {
          "output_type": "execute_result",
          "data": {
            "text/plain": [
              "30"
            ]
          },
          "metadata": {},
          "execution_count": 13
        }
      ]
    },
    {
      "cell_type": "markdown",
      "source": [
        "#### **6. Next Steps**\n",
        "\n",
        "Take our free [Introduction to Python](https://knowledgebase.hyperlearning.ai/en/courses/introduction-to-python) course and become a certified Python developer!"
      ],
      "metadata": {
        "id": "WRNmgzVPJMXf"
      }
    }
  ]
}