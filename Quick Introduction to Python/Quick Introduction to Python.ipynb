{
  "nbformat": 4,
  "nbformat_minor": 0,
  "metadata": {
    "colab": {
      "provenance": [],
      "collapsed_sections": []
    },
    "kernelspec": {
      "name": "python3",
      "display_name": "Python 3"
    },
    "language_info": {
      "name": "python"
    }
  },
  "cells": [
    {
      "cell_type": "markdown",
      "source": [
        "### **Quick Introduction to Python**\n",
        "---"
      ],
      "metadata": {
        "id": "z2MXO4gh75ax"
      }
    },
    {
      "cell_type": "markdown",
      "source": [
        "**Course Details**\n",
        "\n",
        "This notebook course provides a very quick introduction to the fundamentals of the Python programming language.<br/><br/>\n",
        "\n",
        "**Course Website**\n",
        "\n",
        "https://knowledgebase.hyperlearning.ai/en/courses/python-taster<br/><br/>\n",
        "\n",
        "**Requirements**\n",
        "\n",
        "*   Desktop or laptop computer (Windows, Mac or Linux).\n",
        "*   Internet browser ([Google Chrome](https://www.google.com/intl/en_uk/chrome/) recommended).\n",
        "*   Stable internet connection if using [Google Colaboratory](https://colab.research.google.com) (recommended).\n",
        "*   [Google account](https://support.google.com/accounts/answer/27441?hl=en) if using [Google Colaboratory](https://colab.research.google.com) (recommended).<br/><br/>\n",
        "\n",
        "**Contents**\n",
        "\n",
        "1.   What is Python?\n",
        "2.   Basic data types and variables.\n",
        "3.   Basic operators.\n",
        "4.   Basic conditional statements.\n",
        "5.   Basic functions.\n",
        "6.   Next steps.<br/><br/>\n",
        "\n",
        "**Outcomes**\n",
        "\n",
        "*   The ability to develop simple software applications in Python 3.\n",
        "*   An understanding of basic computing concepts including basic data types, control flow and functions.<br/><br/>\n",
        "---"
      ],
      "metadata": {
        "id": "WcbjBlA68L6r"
      }
    },
    {
      "cell_type": "markdown",
      "source": [
        "#### **1. What is Python**\n",
        "\n",
        "[Python](https://www.python.org) is an **open-source general purpose programming language**. This means that it can be used to develop software for a wide variety of tasks. Today Python is used to create and maintain a huge range of computer applications and services including website development, cyber security monitoring, hacking (both ethical and non-ethical), performing data analysis and media processing, robotics and developing artificial intelligence (AI) systems. Python is a popular choice for those starting to learn computer programming and computer science fundamentals for the very first time because it is easy to learn, intuitive and is supported by an active global community of software engineers, data scientists and academics."
      ],
      "metadata": {
        "id": "wbT93fFEDFlR"
      }
    },
    {
      "cell_type": "markdown",
      "source": [
        "#### **2. Basic data types and variables**"
      ],
      "metadata": {
        "id": "fzti8HA7DUqZ"
      }
    },
    {
      "cell_type": "code",
      "execution_count": 1,
      "metadata": {
        "colab": {
          "base_uri": "https://localhost:8080/"
        },
        "id": "Qq90Sls97z3l",
        "outputId": "d3b73609-c91e-478e-ac37-4643e6b1fe1b"
      },
      "outputs": [
        {
          "output_type": "stream",
          "name": "stdout",
          "text": [
            "Hello world!\n"
          ]
        }
      ],
      "source": [
        "# String / text\n",
        "my_first_string = 'Hello world!'\n",
        "print(my_first_string)"
      ]
    },
    {
      "cell_type": "code",
      "source": [
        "# Numbers\n",
        "my_first_number = 10\n",
        "my_second_number = 3.14159"
      ],
      "metadata": {
        "id": "QsTLz5jTD1Si"
      },
      "execution_count": 4,
      "outputs": []
    },
    {
      "cell_type": "code",
      "source": [
        "# Booleans\n",
        "my_first_boolean = True\n",
        "my_second_boolean = False"
      ],
      "metadata": {
        "id": "7Q43iv19GMZz"
      },
      "execution_count": 5,
      "outputs": []
    },
    {
      "cell_type": "markdown",
      "source": [
        "**Variable naming rules**\n",
        "\n",
        "1.   Can only include letters, numbers and `_`.\n",
        "2.   Cannot start with a number.\n",
        "\n",
        "**Variable naming conventions**\n",
        "\n",
        "1.   All lowercase (variable names are case-sensitive).\n",
        "2.   Separate words with the underscore character `_`.\n",
        "3.   Variable names should be short and meaningful."
      ],
      "metadata": {
        "id": "np2SF5HYFYrD"
      }
    },
    {
      "cell_type": "code",
      "source": [
        "# Examples of compliant and good variable names\n",
        "first_name = 'Jillur'\n",
        "last_name = 'Quddus'\n",
        "age = 30\n",
        "male = True\n",
        "\n",
        "print(f'{first_name} {last_name} is {age} years old.')"
      ],
      "metadata": {
        "colab": {
          "base_uri": "https://localhost:8080/"
        },
        "id": "njb2MozBFZrj",
        "outputId": "d910ecaf-3bae-40b1-f867-f9d7a1504dc8"
      },
      "execution_count": 6,
      "outputs": [
        {
          "output_type": "stream",
          "name": "stdout",
          "text": [
            "Jillur Quddus is 30 years old.\n"
          ]
        }
      ]
    },
    {
      "cell_type": "markdown",
      "source": [
        "#### **3. Basic operators**"
      ],
      "metadata": {
        "id": "suCfL9l5ERP6"
      }
    },
    {
      "cell_type": "code",
      "source": [
        "# Arithmetic operators\n",
        "print(3 + 7)\n",
        "print(10 - 6)\n",
        "print(2 * 3)\n",
        "print(10 / 2)"
      ],
      "metadata": {
        "colab": {
          "base_uri": "https://localhost:8080/"
        },
        "id": "iYldqNqpEO75",
        "outputId": "03854c8d-24c4-4353-8303-b5d9d42ecc51"
      },
      "execution_count": 9,
      "outputs": [
        {
          "output_type": "stream",
          "name": "stdout",
          "text": [
            "10\n",
            "4\n",
            "6\n",
            "5.0\n"
          ]
        }
      ]
    },
    {
      "cell_type": "code",
      "source": [
        "x = 2\n",
        "y = 10\n",
        "z = x * y\n",
        "print(z)"
      ],
      "metadata": {
        "colab": {
          "base_uri": "https://localhost:8080/"
        },
        "id": "EZ5VbDETHLwm",
        "outputId": "cfc4e284-3a74-4bfc-fe57-c7e1e0ebb684"
      },
      "execution_count": 10,
      "outputs": [
        {
          "output_type": "stream",
          "name": "stdout",
          "text": [
            "20\n"
          ]
        }
      ]
    },
    {
      "cell_type": "code",
      "source": [
        "# Comparison operators\n",
        "print(10 == 100)\n",
        "print(2 > 10)\n",
        "print(10 < 100)\n",
        "print(10 >= 10)\n",
        "print(20 <= 19)"
      ],
      "metadata": {
        "colab": {
          "base_uri": "https://localhost:8080/"
        },
        "id": "R8ggJ_8aHMuc",
        "outputId": "99958666-51b5-4d63-a6a6-6f7cd27ac2bd"
      },
      "execution_count": 11,
      "outputs": [
        {
          "output_type": "stream",
          "name": "stdout",
          "text": [
            "False\n",
            "False\n",
            "True\n",
            "True\n",
            "False\n"
          ]
        }
      ]
    },
    {
      "cell_type": "markdown",
      "source": [
        "#### **4. Basic conditional statements**"
      ],
      "metadata": {
        "id": "95V8Q1DeHkAP"
      }
    },
    {
      "cell_type": "code",
      "source": [
        "# If statement\n",
        "age = 30\n",
        "if age >= 18:\n",
        "  print(\"You are allowed to vote in UK elections.\")"
      ],
      "metadata": {
        "colab": {
          "base_uri": "https://localhost:8080/"
        },
        "id": "Z21H0t6VHmql",
        "outputId": "aa79a347-2fb0-4b38-8536-e0fc8d6948e1"
      },
      "execution_count": 12,
      "outputs": [
        {
          "output_type": "stream",
          "name": "stdout",
          "text": [
            "You are allowed to vote in UK elections\n"
          ]
        }
      ]
    },
    {
      "cell_type": "code",
      "source": [
        "if age >= 18:\n",
        "  print(\"You are allowed to vote in UK elections\")\n",
        "else:\n",
        "  print(\"You are NOT allowed to vote in UK elections.\")"
      ],
      "metadata": {
        "id": "DR1GPeWaIJF1"
      },
      "execution_count": null,
      "outputs": []
    },
    {
      "cell_type": "markdown",
      "source": [
        "#### **5. Basic functions**"
      ],
      "metadata": {
        "id": "NP9UEsnoIb5G"
      }
    },
    {
      "cell_type": "code",
      "source": [
        "# Print function\n",
        "name = 'My name is Jillur Quddus'\n",
        "print(name)"
      ],
      "metadata": {
        "colab": {
          "base_uri": "https://localhost:8080/"
        },
        "id": "u7J-TqOYIY89",
        "outputId": "d2cf90d3-d786-4cad-d846-7661c95c08c7"
      },
      "execution_count": 13,
      "outputs": [
        {
          "output_type": "stream",
          "name": "stdout",
          "text": [
            "My name is Jillur Quddus\n"
          ]
        }
      ]
    },
    {
      "cell_type": "code",
      "source": [
        "# Defining your own functions\n",
        "def add(x, y):\n",
        "  sum = x + y\n",
        "  return sum"
      ],
      "metadata": {
        "id": "P2wZA2uxInLf"
      },
      "execution_count": 15,
      "outputs": []
    },
    {
      "cell_type": "code",
      "source": [
        "# Running your own functions\n",
        "add(10, 20)"
      ],
      "metadata": {
        "colab": {
          "base_uri": "https://localhost:8080/"
        },
        "id": "wPIKU-eyIxxW",
        "outputId": "60fb5730-bf45-4f7f-c88f-ab74668a1e03"
      },
      "execution_count": 16,
      "outputs": [
        {
          "output_type": "execute_result",
          "data": {
            "text/plain": [
              "30"
            ]
          },
          "metadata": {},
          "execution_count": 16
        }
      ]
    },
    {
      "cell_type": "markdown",
      "source": [
        "#### **6. Next steps**\n",
        "\n",
        "Take our free [Introduction to Python](https://knowledgebase.hyperlearning.ai/en/courses/introduction-to-python) course and become a certified Python developer!"
      ],
      "metadata": {
        "id": "WRNmgzVPJMXf"
      }
    }
  ]
}